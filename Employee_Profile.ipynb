{
 "cells": [
  {
   "cell_type": "code",
   "execution_count": 4,
   "id": "85fd467f-1539-42ef-aae1-86eebfd4568c",
   "metadata": {},
   "outputs": [
    {
     "name": "stderr",
     "output_type": "stream",
     "text": [
      "C:\\Users\\BenjaminMaosaMongare\\AppData\\Local\\Temp\\ipykernel_23320\\756492965.py:4: DtypeWarning: Columns (2,3,4,5) have mixed types. Specify dtype option on import or set low_memory=False.\n",
      "  salary_data = pd.read_csv('total.csv')\n"
     ]
    },
    {
     "data": {
      "text/html": [
       "<div>\n",
       "<style scoped>\n",
       "    .dataframe tbody tr th:only-of-type {\n",
       "        vertical-align: middle;\n",
       "    }\n",
       "\n",
       "    .dataframe tbody tr th {\n",
       "        vertical-align: top;\n",
       "    }\n",
       "\n",
       "    .dataframe thead th {\n",
       "        text-align: right;\n",
       "    }\n",
       "</style>\n",
       "<table border=\"1\" class=\"dataframe\">\n",
       "  <thead>\n",
       "    <tr style=\"text-align: right;\">\n",
       "      <th></th>\n",
       "      <th>EmployeeName</th>\n",
       "      <th>JobTitle</th>\n",
       "      <th>BasePay</th>\n",
       "      <th>OvertimePay</th>\n",
       "      <th>OtherPay</th>\n",
       "      <th>Benefits</th>\n",
       "      <th>TotalPay</th>\n",
       "      <th>TotalPayBenefits</th>\n",
       "      <th>Year</th>\n",
       "    </tr>\n",
       "  </thead>\n",
       "  <tbody>\n",
       "    <tr>\n",
       "      <th>0</th>\n",
       "      <td>NATHANIEL FORD</td>\n",
       "      <td>GENERAL MANAGER-METROPOLITAN TRANSIT AUTHORITY</td>\n",
       "      <td>167411.18</td>\n",
       "      <td>0.0</td>\n",
       "      <td>400184.25</td>\n",
       "      <td>Not Provided</td>\n",
       "      <td>567595.43</td>\n",
       "      <td>567595.43</td>\n",
       "      <td>2011</td>\n",
       "    </tr>\n",
       "    <tr>\n",
       "      <th>1</th>\n",
       "      <td>GARY JIMENEZ</td>\n",
       "      <td>CAPTAIN III (POLICE DEPARTMENT)</td>\n",
       "      <td>155966.02</td>\n",
       "      <td>245131.88</td>\n",
       "      <td>137811.38</td>\n",
       "      <td>Not Provided</td>\n",
       "      <td>538909.28</td>\n",
       "      <td>538909.28</td>\n",
       "      <td>2011</td>\n",
       "    </tr>\n",
       "    <tr>\n",
       "      <th>2</th>\n",
       "      <td>ALBERT PARDINI</td>\n",
       "      <td>CAPTAIN III (POLICE DEPARTMENT)</td>\n",
       "      <td>212739.13</td>\n",
       "      <td>106088.18</td>\n",
       "      <td>16452.6</td>\n",
       "      <td>Not Provided</td>\n",
       "      <td>335279.91</td>\n",
       "      <td>335279.91</td>\n",
       "      <td>2011</td>\n",
       "    </tr>\n",
       "    <tr>\n",
       "      <th>3</th>\n",
       "      <td>CHRISTOPHER CHONG</td>\n",
       "      <td>WIRE ROPE CABLE MAINTENANCE MECHANIC</td>\n",
       "      <td>77916.0</td>\n",
       "      <td>56120.71</td>\n",
       "      <td>198306.9</td>\n",
       "      <td>Not Provided</td>\n",
       "      <td>332343.61</td>\n",
       "      <td>332343.61</td>\n",
       "      <td>2011</td>\n",
       "    </tr>\n",
       "    <tr>\n",
       "      <th>4</th>\n",
       "      <td>PATRICK GARDNER</td>\n",
       "      <td>DEPUTY CHIEF OF DEPARTMENT,(FIRE DEPARTMENT)</td>\n",
       "      <td>134401.6</td>\n",
       "      <td>9737.0</td>\n",
       "      <td>182234.59</td>\n",
       "      <td>Not Provided</td>\n",
       "      <td>326373.19</td>\n",
       "      <td>326373.19</td>\n",
       "      <td>2011</td>\n",
       "    </tr>\n",
       "  </tbody>\n",
       "</table>\n",
       "</div>"
      ],
      "text/plain": [
       "        EmployeeName                                        JobTitle  \\\n",
       "0     NATHANIEL FORD  GENERAL MANAGER-METROPOLITAN TRANSIT AUTHORITY   \n",
       "1       GARY JIMENEZ                 CAPTAIN III (POLICE DEPARTMENT)   \n",
       "2     ALBERT PARDINI                 CAPTAIN III (POLICE DEPARTMENT)   \n",
       "3  CHRISTOPHER CHONG            WIRE ROPE CABLE MAINTENANCE MECHANIC   \n",
       "4    PATRICK GARDNER    DEPUTY CHIEF OF DEPARTMENT,(FIRE DEPARTMENT)   \n",
       "\n",
       "     BasePay OvertimePay   OtherPay      Benefits   TotalPay  \\\n",
       "0  167411.18         0.0  400184.25  Not Provided  567595.43   \n",
       "1  155966.02   245131.88  137811.38  Not Provided  538909.28   \n",
       "2  212739.13   106088.18    16452.6  Not Provided  335279.91   \n",
       "3    77916.0    56120.71   198306.9  Not Provided  332343.61   \n",
       "4   134401.6      9737.0  182234.59  Not Provided  326373.19   \n",
       "\n",
       "   TotalPayBenefits  Year  \n",
       "0         567595.43  2011  \n",
       "1         538909.28  2011  \n",
       "2         335279.91  2011  \n",
       "3         332343.61  2011  \n",
       "4         326373.19  2011  "
      ]
     },
     "execution_count": 4,
     "metadata": {},
     "output_type": "execute_result"
    }
   ],
   "source": [
    "import pandas as pd\n",
    "\n",
    "# Import salary data\n",
    "salary_data = pd.read_csv('total.csv')\n",
    "salary_data.head()"
   ]
  },
  {
   "cell_type": "code",
   "execution_count": 5,
   "id": "0f7a0ab5-4418-4419-a309-bf7497335560",
   "metadata": {},
   "outputs": [
    {
     "name": "stdout",
     "output_type": "stream",
     "text": [
      "     EmployeeName                                        JobTitle    BasePay  \\\n",
      "0  NATHANIEL FORD  GENERAL MANAGER-METROPOLITAN TRANSIT AUTHORITY  167411.18   \n",
      "\n",
      "  OvertimePay   OtherPay      Benefits   TotalPay  TotalPayBenefits  Year  \n",
      "0         0.0  400184.25  Not Provided  567595.43         567595.43  2011  \n"
     ]
    }
   ],
   "source": [
    "# Create an employee function\n",
    "def get_employee_details(name):\n",
    "    try:\n",
    "        employee = salary_data[salary_data['EmployeeName'].str.lower() == name.lower()]\n",
    "        if employee.empty:\n",
    "            raise ValueError(\"Employee not found.\")\n",
    "        return employee\n",
    "    except Exception as e:\n",
    "        return f\"Error: {str(e)}\"\n",
    "\n",
    "# Test the function\n",
    "print(get_employee_details('Nathaniel Ford'))\n",
    "        "
   ]
  },
  {
   "cell_type": "code",
   "execution_count": 6,
   "id": "4750c08e-1c6f-443f-8727-600ba2277241",
   "metadata": {},
   "outputs": [],
   "source": [
    "# Process the salary data with a dictionary \n",
    "# Convert the salary data into a dictionary for more flexible processing\n",
    "salary_dict = salary_data.to_dict(orient='records')\n",
    "\n",
    "# Processing data for a specific employee\n",
    "for employee in salary_dict:\n",
    "    if employee['EmployeeName'] == 'Nathaniel Ford':\n",
    "        print(employee)"
   ]
  },
  {
   "cell_type": "code",
   "execution_count": 8,
   "id": "4e86cf61-54e4-4779-812d-93817951d74c",
   "metadata": {},
   "outputs": [],
   "source": [
    "# Incorporate error handling\n",
    "def get_employee_details_with_error_handling(name):\n",
    "    try:\n",
    "        employee = salary_data[salary_data['EmployeeName'].str.lower() == name.lower()]\n",
    "        if employee.empty:\n",
    "            raise ValueError(\"Employee not found.\")\n",
    "        return employee\n",
    "    except KeyError as ke:\n",
    "        return f\"key error: {str(ke)}\"\n",
    "    except ValueError as ve:\n",
    "        return f\"value error: {str(ve)}\"\n",
    "    except Exception as e:\n",
    "        return f\"An expected error occurred: {str(e)}\"\n",
    "        "
   ]
  },
  {
   "cell_type": "code",
   "execution_count": 9,
   "id": "af4e6532-b9cc-47db-ba0b-7c9349ad929b",
   "metadata": {},
   "outputs": [
    {
     "name": "stdout",
     "output_type": "stream",
     "text": [
      "Exported and zipped details for Nathaniel Ford.\n"
     ]
    }
   ],
   "source": [
    "# Export employee details to CSV and zip it\n",
    "import zipfile\n",
    "import os\n",
    "\n",
    "def export_employee_to_csv_and_zip(name):\n",
    "    employee = get_employee_details(name)\n",
    "    if isinstance(employee, pd.DataFrame):\n",
    "        filename = f'{name}_details.csv'\n",
    "        employee.to_csv(filename, index=False)\n",
    "\n",
    "        # Create a zip file\n",
    "        with zipfile.ZipFile('Employee_Profile.zip', 'w') as zf:\n",
    "            zf.write(filename)\n",
    "\n",
    "        # Remove the CSV after zipping it\n",
    "        os.remove(filename)\n",
    "        print(f\"Exported and zipped details for {name}.\")\n",
    "    else:\n",
    "        print(employee)\n",
    "\n",
    "# Example usage\n",
    "export_employee_to_csv_and_zip('Nathaniel Ford')"
   ]
  },
  {
   "cell_type": "code",
   "execution_count": null,
   "id": "8a759c14-7ccf-4e1a-8618-c817cba75479",
   "metadata": {},
   "outputs": [],
   "source": []
  }
 ],
 "metadata": {
  "kernelspec": {
   "display_name": "Python 3 (ipykernel)",
   "language": "python",
   "name": "python3"
  },
  "language_info": {
   "codemirror_mode": {
    "name": "ipython",
    "version": 3
   },
   "file_extension": ".py",
   "mimetype": "text/x-python",
   "name": "python",
   "nbconvert_exporter": "python",
   "pygments_lexer": "ipython3",
   "version": "3.12.5"
  }
 },
 "nbformat": 4,
 "nbformat_minor": 5
}
